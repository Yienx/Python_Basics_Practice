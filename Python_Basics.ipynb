{
 "cells": [
  {
   "cell_type": "markdown",
   "id": "2bed5923-8907-4441-befd-ef73edf6fbe5",
   "metadata": {},
   "source": [
    "### Python Datatypes Assignment\n",
    "* Boolean (True / False) Types\n",
    "* String\n",
    "* Integer\n",
    "* Float\n",
    "* Complex\n",
    "* Uint (Unsigned Integer Types)\n",
    "* Date Time"
   ]
  },
  {
   "cell_type": "code",
   "execution_count": 4,
   "id": "c6d3f5b9-ee15-478b-8daa-9021775558ae",
   "metadata": {},
   "outputs": [
    {
     "name": "stdout",
     "output_type": "stream",
     "text": [
      "<class 'str'>\n",
      "<class 'bool'>\n"
     ]
    }
   ],
   "source": [
    "a = 'Data Science'\n",
    "b = True\n",
    "print(type(a))\n",
    "print(type(b))"
   ]
  },
  {
   "cell_type": "markdown",
   "id": "964f5647-8db6-4716-bdc0-aa7832b02568",
   "metadata": {},
   "source": [
    "#### Type Casting: Converting one datatype to another type\n"
   ]
  },
  {
   "cell_type": "code",
   "execution_count": 13,
   "id": "91ff0582-4481-4bf5-ad37-d1db800a6254",
   "metadata": {},
   "outputs": [
    {
     "data": {
      "text/plain": [
       "14.5"
      ]
     },
     "execution_count": 13,
     "metadata": {},
     "output_type": "execute_result"
    }
   ],
   "source": [
    "# bool + str + int + float\n",
    "\n",
    "True + 6 + 7.5\n",
    "\n",
    "# True represents 1, False, 0"
   ]
  },
  {
   "cell_type": "code",
   "execution_count": 15,
   "id": "f7f9926f-bd84-4d6d-8bcf-3ff901e4f7cb",
   "metadata": {},
   "outputs": [
    {
     "data": {
      "text/plain": [
       "10"
      ]
     },
     "execution_count": 15,
     "metadata": {},
     "output_type": "execute_result"
    }
   ],
   "source": [
    "int(7.5) + 3  # the float type has been converted to int and rounded down"
   ]
  },
  {
   "cell_type": "code",
   "execution_count": 19,
   "id": "62b5aab8-f7e2-4466-9136-7b2cb32e5a60",
   "metadata": {},
   "outputs": [
    {
     "data": {
      "text/plain": [
       "False"
      ]
     },
     "execution_count": 19,
     "metadata": {},
     "output_type": "execute_result"
    }
   ],
   "source": [
    "bool(0)"
   ]
  },
  {
   "cell_type": "code",
   "execution_count": 21,
   "id": "72ac6767-8010-4e2a-a194-2f70a117ce88",
   "metadata": {},
   "outputs": [
    {
     "data": {
      "text/plain": [
       "8"
      ]
     },
     "execution_count": 21,
     "metadata": {},
     "output_type": "execute_result"
    }
   ],
   "source": [
    "True + 3 + int(4.5)"
   ]
  },
  {
   "cell_type": "markdown",
   "id": "da3059ab-193d-4a44-bbff-be46f8750214",
   "metadata": {},
   "source": [
    "#### We can convert from any type to int except complex type."
   ]
  },
  {
   "cell_type": "code",
   "execution_count": 24,
   "id": "947fb9d8-752a-4cb1-8b2b-83100fcf2588",
   "metadata": {},
   "outputs": [
    {
     "data": {
      "text/plain": [
       "10"
      ]
     },
     "execution_count": 24,
     "metadata": {},
     "output_type": "execute_result"
    }
   ],
   "source": [
    "int(10.873)"
   ]
  },
  {
   "cell_type": "code",
   "execution_count": null,
   "id": "b0cf23be-9a59-4615-8bce-3de2d4730b53",
   "metadata": {},
   "outputs": [],
   "source": [
    "int(10+5j)\n",
    "# TypeError: int() argument must be a string, a bytes-like object or a real number, not 'complex'\n"
   ]
  },
  {
   "cell_type": "code",
   "execution_count": null,
   "id": "fd02d9c5-b0dc-4f91-9e34-be7465a98cd7",
   "metadata": {},
   "outputs": [],
   "source": [
    "int('Ten')\n",
    "# ValueError: invalid literal for int() with base 10: 'Ten'"
   ]
  },
  {
   "cell_type": "code",
   "execution_count": 37,
   "id": "a2ab1cd5-d07c-4e62-af7d-77356f38b001",
   "metadata": {},
   "outputs": [
    {
     "name": "stdout",
     "output_type": "stream",
     "text": [
      "False\n",
      "True\n",
      "False\n",
      "True\n",
      "True\n",
      "False\n",
      "True\n",
      "False\n"
     ]
    }
   ],
   "source": [
    "#Boolean variations\n",
    "\n",
    "print(bool(False))\n",
    "print(bool(True))\n",
    "print(bool(0))\n",
    "print(bool(1))\n",
    "print(bool(3.5))\n",
    "print(bool(0.0))\n",
    "print(bool(10+10j))\n",
    "print(bool(\"\"))"
   ]
  },
  {
   "cell_type": "markdown",
   "id": "8e86798d-ae00-45d3-9b53-4553c2b1c023",
   "metadata": {},
   "source": [
    "### SLICING"
   ]
  },
  {
   "cell_type": "code",
   "execution_count": 42,
   "id": "848f1916-b61b-4241-97ff-4ffe17207963",
   "metadata": {},
   "outputs": [
    {
     "data": {
      "text/plain": [
       "'I am a Data Scientist'"
      ]
     },
     "execution_count": 42,
     "metadata": {},
     "output_type": "execute_result"
    }
   ],
   "source": [
    "# slicing begins from index 0\n",
    "\n",
    "a = \"I am a Data Scientist\"\n",
    "a"
   ]
  },
  {
   "cell_type": "code",
   "execution_count": 46,
   "id": "a55f4f68-0267-487b-90d0-3b93309784dc",
   "metadata": {},
   "outputs": [
    {
     "data": {
      "text/plain": [
       "'am a '"
      ]
     },
     "execution_count": 46,
     "metadata": {},
     "output_type": "execute_result"
    }
   ],
   "source": [
    "a[2:7]"
   ]
  },
  {
   "cell_type": "code",
   "execution_count": 50,
   "id": "d2c86100-a074-4b26-830b-ff93d1c5fd45",
   "metadata": {},
   "outputs": [
    {
     "data": {
      "text/plain": [
       "'Scientist'"
      ]
     },
     "execution_count": 50,
     "metadata": {},
     "output_type": "execute_result"
    }
   ],
   "source": [
    "a[-9:]"
   ]
  },
  {
   "cell_type": "code",
   "execution_count": 52,
   "id": "580f9aaa-bcfa-497b-a584-80acba41d0c0",
   "metadata": {},
   "outputs": [
    {
     "data": {
      "text/plain": [
       "'I am a '"
      ]
     },
     "execution_count": 52,
     "metadata": {},
     "output_type": "execute_result"
    }
   ],
   "source": [
    "a[:7]"
   ]
  },
  {
   "cell_type": "markdown",
   "id": "00bb91bf-5595-45c9-8f33-99ad13a62265",
   "metadata": {},
   "source": [
    "### Practice"
   ]
  },
  {
   "cell_type": "code",
   "execution_count": 55,
   "id": "4834742f-a51c-4a27-9c2c-1f1b7ec42e25",
   "metadata": {},
   "outputs": [
    {
     "data": {
      "text/plain": [
       "[3, 4, 5, 6]"
      ]
     },
     "execution_count": 55,
     "metadata": {},
     "output_type": "execute_result"
    }
   ],
   "source": [
    "my_list = [1,2,3,4,5,6,7,8,9,10]\n",
    "\n",
    "# Get a slice from index 2 to index 6 excluding\n",
    "slice1 = my_list[2:6] \n",
    "slice1"
   ]
  },
  {
   "cell_type": "code",
   "execution_count": 57,
   "id": "6e1d833a-d084-441b-95d7-a41368db8562",
   "metadata": {},
   "outputs": [
    {
     "data": {
      "text/plain": [
       "[2, 3, 4, 5, 6, 7, 8, 9, 10]"
      ]
     },
     "execution_count": 57,
     "metadata": {},
     "output_type": "execute_result"
    }
   ],
   "source": [
    "# Get a slice from index 1 to the end\n",
    "\n",
    "slice2 = my_list[1:]\n",
    "slice2"
   ]
  },
  {
   "cell_type": "code",
   "execution_count": 59,
   "id": "305a83e8-80ad-403a-96e7-8f15e87aedcf",
   "metadata": {},
   "outputs": [
    {
     "data": {
      "text/plain": [
       "[1, 2, 3, 4, 5]"
      ]
     },
     "execution_count": 59,
     "metadata": {},
     "output_type": "execute_result"
    }
   ],
   "source": [
    "# Get a slice from the beginning to index 5 excluding \n",
    "\n",
    "slice3 = my_list[:5]\n",
    "slice3"
   ]
  },
  {
   "cell_type": "code",
   "execution_count": 61,
   "id": "52256609-4b3d-4617-b7cb-7dd098c1701c",
   "metadata": {},
   "outputs": [
    {
     "data": {
      "text/plain": [
       "[1, 3, 5, 7, 9]"
      ]
     },
     "execution_count": 61,
     "metadata": {},
     "output_type": "execute_result"
    }
   ],
   "source": [
    "# Get a slice of the list with a step size of 2\n",
    "slice4 = my_list[::2]\n",
    "slice4"
   ]
  },
  {
   "cell_type": "code",
   "execution_count": 63,
   "id": "82017050-62e4-4c19-9360-20b045571130",
   "metadata": {},
   "outputs": [
    {
     "data": {
      "text/plain": [
       "[9, 10]"
      ]
     },
     "execution_count": 63,
     "metadata": {},
     "output_type": "execute_result"
    }
   ],
   "source": [
    "# Get a slice of the list from the second last element to the end\n",
    "slice5 = my_list[-2:]\n",
    "slice5"
   ]
  },
  {
   "cell_type": "code",
   "execution_count": 69,
   "id": "d885fb7e-0c89-45b3-b6f5-c991b0b87ecb",
   "metadata": {},
   "outputs": [
    {
     "data": {
      "text/plain": [
       "[1, 2, 3, 4, 5, 6, 7]"
      ]
     },
     "execution_count": 69,
     "metadata": {},
     "output_type": "execute_result"
    }
   ],
   "source": [
    "# Get a slice of the list from the beginning to the third last element excluding\n",
    "\n",
    "slice6 = my_list[:-3]\n",
    "slice6"
   ]
  },
  {
   "cell_type": "code",
   "execution_count": 73,
   "id": "24b8f3f5-e138-4c64-bc87-ae3f9f713d8c",
   "metadata": {},
   "outputs": [
    {
     "data": {
      "text/plain": [
       "[10, 9, 8, 7, 6, 5, 4, 3, 2, 1]"
      ]
     },
     "execution_count": 73,
     "metadata": {},
     "output_type": "execute_result"
    }
   ],
   "source": [
    "# Get a slice of the list in reverse order\n",
    "slice7 = my_list[::-1]\n",
    "slice7"
   ]
  },
  {
   "cell_type": "markdown",
   "id": "f315357a-0a2e-4e5c-9045-d307bd29e7b4",
   "metadata": {},
   "source": [
    "#### Practicing with strings"
   ]
  },
  {
   "cell_type": "code",
   "execution_count": 78,
   "id": "f02e66ba-cb0e-4baa-b02f-6400b3f5eda9",
   "metadata": {},
   "outputs": [
    {
     "data": {
      "text/plain": [
       "'World!'"
      ]
     },
     "execution_count": 78,
     "metadata": {},
     "output_type": "execute_result"
    }
   ],
   "source": [
    "my_string = \"Hello, World!\"\n",
    "\n",
    "# Get a slice from the string from index 7 to the end\n",
    "\n",
    "string1 = my_string[7:]\n",
    "string1"
   ]
  },
  {
   "cell_type": "code",
   "execution_count": 80,
   "id": "36504cb4-950d-4172-bd2e-55880c5bc509",
   "metadata": {},
   "outputs": [
    {
     "data": {
      "text/plain": [
       "'Hello'"
      ]
     },
     "execution_count": 80,
     "metadata": {},
     "output_type": "execute_result"
    }
   ],
   "source": [
    "# Get a slice of the string from the beginning to index 5 excluding\n",
    "\n",
    "string2 = my_string[:5]\n",
    "string2"
   ]
  },
  {
   "cell_type": "code",
   "execution_count": 82,
   "id": "c2c6297e-b4fe-47a1-be04-b5ecb6ea08d9",
   "metadata": {},
   "outputs": [
    {
     "data": {
      "text/plain": [
       "'Hlo ol!'"
      ]
     },
     "execution_count": 82,
     "metadata": {},
     "output_type": "execute_result"
    }
   ],
   "source": [
    "# Get a slice of the string with a step size of 2\n",
    "string3 = my_string[::2]\n",
    "string3"
   ]
  },
  {
   "cell_type": "markdown",
   "id": "28b358e5-0bb6-4395-8221-70a9e83be384",
   "metadata": {},
   "source": [
    "#### Arithmetic Operators Practice\n"
   ]
  },
  {
   "cell_type": "code",
   "execution_count": 86,
   "id": "2c432bcb-0466-48b4-b7a6-cc36355cf9fe",
   "metadata": {},
   "outputs": [
    {
     "name": "stdout",
     "output_type": "stream",
     "text": [
      "15\n",
      "5\n",
      "50\n",
      "2.0\n",
      "1\n",
      "1000\n",
      "3\n"
     ]
    }
   ],
   "source": [
    "x = 10 + 5\n",
    "print (x)\n",
    "\n",
    "y = 10 -5\n",
    "print(y)\n",
    "\n",
    "z = 10 * 5\n",
    "print(z)\n",
    "\n",
    "w = 10 / 5\n",
    "print(w)\n",
    "\n",
    "mod = 10 % 3\n",
    "print(mod)\n",
    "\n",
    "exp = 10 ** 3\n",
    "print(exp)\n",
    "\n",
    "floor_div = 10 // 3\n",
    "print(floor_div)\n"
   ]
  },
  {
   "cell_type": "code",
   "execution_count": 96,
   "id": "0dcdf276-722c-4c0a-8087-21b3718027ac",
   "metadata": {},
   "outputs": [
    {
     "name": "stdout",
     "output_type": "stream",
     "text": [
      "8\n",
      "2\n",
      "15\n",
      "1.6666666666666667\n",
      "2\n",
      "125\n",
      "1\n"
     ]
    }
   ],
   "source": [
    "# Assignment Operators\n",
    "\n",
    "a = 5\n",
    "a+=3\n",
    "print(a)\n",
    "\n",
    "b = 5\n",
    "b-=3\n",
    "print(b)\n",
    "\n",
    "c = 5\n",
    "c*=3\n",
    "print(c)\n",
    "\n",
    "d = 5\n",
    "d/=3\n",
    "print(d)\n",
    "\n",
    "\n",
    "e = 5\n",
    "e %= 3\n",
    "print(e)\n",
    "\n",
    "f = 5\n",
    "f**=3\n",
    "print(f)\n",
    "\n",
    "g = 5\n",
    "g//=3\n",
    "print(g)"
   ]
  },
  {
   "cell_type": "code",
   "execution_count": 100,
   "id": "35a11b6e-32b9-4c47-b950-ef8e1de59c03",
   "metadata": {},
   "outputs": [
    {
     "name": "stdout",
     "output_type": "stream",
     "text": [
      "False\n",
      "True\n",
      "False\n",
      "True\n",
      "False\n",
      "False\n"
     ]
    }
   ],
   "source": [
    "# Comparison Operators\n",
    "\n",
    "x = 5\n",
    "y = 10\n",
    "\n",
    "print(x == y)\n",
    "print(x != y)\n",
    "print(x > y)\n",
    "print(x < y)\n",
    "print(x >= y)\n",
    "print(x >= y)\n"
   ]
  },
  {
   "cell_type": "code",
   "execution_count": 104,
   "id": "8fca6fcf-e009-407a-a09c-1c2f5be131f1",
   "metadata": {},
   "outputs": [
    {
     "name": "stdout",
     "output_type": "stream",
     "text": [
      "False\n",
      "True\n",
      "False\n"
     ]
    }
   ],
   "source": [
    "# Logical Operators\n",
    "\n",
    "a = True\n",
    "b = False\n",
    "\n",
    "print( a and b)\n",
    "print (a or b)\n",
    "print (not a)"
   ]
  },
  {
   "cell_type": "code",
   "execution_count": 108,
   "id": "f3bbd155-e655-47b8-a027-769999bd8aca",
   "metadata": {},
   "outputs": [
    {
     "name": "stdout",
     "output_type": "stream",
     "text": [
      "2\n",
      "15\n",
      "13\n",
      "-11\n",
      "40\n",
      "0\n"
     ]
    }
   ],
   "source": [
    "# Bitwise Operators\n",
    "\n",
    "x = 10\n",
    "y = 7\n",
    "\n",
    "print(x & y)\n",
    "print (x | y)\n",
    "print (x ^ y)\n",
    "print (~x)\n",
    "print (x << 2)\n",
    "print (x >> y)"
   ]
  },
  {
   "cell_type": "code",
   "execution_count": null,
   "id": "38881927-c2a4-4f59-ae7e-8e3de078b887",
   "metadata": {},
   "outputs": [],
   "source": []
  }
 ],
 "metadata": {
  "kernelspec": {
   "display_name": "Python [conda env:base] *",
   "language": "python",
   "name": "conda-base-py"
  },
  "language_info": {
   "codemirror_mode": {
    "name": "ipython",
    "version": 3
   },
   "file_extension": ".py",
   "mimetype": "text/x-python",
   "name": "python",
   "nbconvert_exporter": "python",
   "pygments_lexer": "ipython3",
   "version": "3.12.7"
  }
 },
 "nbformat": 4,
 "nbformat_minor": 5
}
