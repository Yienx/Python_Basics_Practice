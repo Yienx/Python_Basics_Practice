{
 "cells": [
  {
   "cell_type": "markdown",
   "id": "b3a75d36-e719-495c-82cd-d3a2b91f1704",
   "metadata": {},
   "source": [
    "# Hands-On Exercises\n",
    "\n",
    "1. Create a 3x3 identity matrix using NumPy.\n",
    "\n",
    "2. Generate a 2D array with random integers and compute the row-wise sum.\n",
    "\n",
    "3. Create a 1D array with 10 evenly spaced values between 0 and 100.\n",
    "\n",
    "4. Perform element-wise addition, multiplication, and division on two random arrays of size 4x4.\n",
    "\n",
    "5. Find the maximum value and its index in a randomly generated array."
   ]
  },
  {
   "cell_type": "code",
   "execution_count": 3,
   "id": "1d7268f7-b88a-4869-819b-163eff0eb025",
   "metadata": {},
   "outputs": [],
   "source": [
    "import pandas as pd\n",
    "import numpy as np"
   ]
  },
  {
   "cell_type": "code",
   "execution_count": 4,
   "id": "d13f2756-d31e-4c88-ba36-d7db01c89590",
   "metadata": {},
   "outputs": [
    {
     "data": {
      "text/plain": [
       "array([[1., 0., 0.],\n",
       "       [0., 1., 0.],\n",
       "       [0., 0., 1.]])"
      ]
     },
     "execution_count": 4,
     "metadata": {},
     "output_type": "execute_result"
    }
   ],
   "source": [
    "# Create a 3x3 identity matrix\n",
    "\n",
    "data1 = np.eye(3)\n",
    "data1"
   ]
  },
  {
   "cell_type": "code",
   "execution_count": 5,
   "id": "661575a2-41c4-467d-8a61-54e3a4eafb47",
   "metadata": {},
   "outputs": [
    {
     "name": "stdout",
     "output_type": "stream",
     "text": [
      "Row-wise sum: [15 40 29]\n"
     ]
    }
   ],
   "source": [
    "# 2D array with random integers and compute a row-wise sum\n",
    "\n",
    "\n",
    "data2 = np.array([[1,2,3,4,5],[6,7,8,9,10], [3,5,7,9,5]])\n",
    "\n",
    "row_sum =  np.sum(data2, axis=1)\n",
    "print(\"Row-wise sum:\", row_sum)"
   ]
  },
  {
   "cell_type": "code",
   "execution_count": 6,
   "id": "0ea41eff-4000-4a6f-b868-aa2d7f4317f7",
   "metadata": {},
   "outputs": [
    {
     "data": {
      "text/plain": [
       "array([  0.        ,  11.11111111,  22.22222222,  33.33333333,\n",
       "        44.44444444,  55.55555556,  66.66666667,  77.77777778,\n",
       "        88.88888889, 100.        ])"
      ]
     },
     "execution_count": 6,
     "metadata": {},
     "output_type": "execute_result"
    }
   ],
   "source": [
    "# Create a 1D array with 10 evenly spaced values between 0 and 100.\n",
    "\n",
    "\n",
    "data3 = np.linspace(0,100,10)\n",
    "data3"
   ]
  },
  {
   "cell_type": "code",
   "execution_count": 7,
   "id": "8a360199-fcd4-4e35-80bf-a1471a232ced",
   "metadata": {},
   "outputs": [
    {
     "name": "stdout",
     "output_type": "stream",
     "text": [
      "array1:\n",
      " [[0.87820838 0.26177628 0.9847871  0.62233759]\n",
      " [0.68067286 0.15247721 0.71293865 0.32600853]\n",
      " [0.5310177  0.26699519 0.53568802 0.08374023]\n",
      " [0.07274238 0.284774   0.48491091 0.53118783]]\n",
      "array2:\n",
      " [[0.05855857 0.05196222 0.09260769 0.51414403]\n",
      " [0.5315091  0.94309118 0.08764518 0.7744774 ]\n",
      " [0.98388388 0.55927649 0.1655567  0.57627617]\n",
      " [0.82543818 0.48866489 0.71318646 0.14142072]]\n",
      "\n",
      "Element Wise Multiplication:\n",
      " [[0.05142663 0.01360248 0.09119886 0.31997116]\n",
      " [0.36178381 0.14379991 0.06248563 0.25248623]\n",
      " [0.52245976 0.14932413 0.08868674 0.0482575 ]\n",
      " [0.06004434 0.13915905 0.3458319  0.07512096]]\n",
      "\n",
      "Element Wise Addition:\n",
      " [[0.93676695 0.3137385  1.07739479 1.13648162]\n",
      " [1.21218195 1.09556839 0.80058383 1.10048592]\n",
      " [1.51490158 0.82627167 0.70124472 0.6600164 ]\n",
      " [0.89818057 0.77343889 1.19809738 0.67260855]]\n",
      "\n",
      "Element Wise Division:\n",
      " [[14.99709448  5.03781902 10.63396673  1.21043436]\n",
      " [ 1.28064197  0.16167812  8.13437408  0.42094001]\n",
      " [ 0.53971583  0.47739391  3.2356771   0.14531267]\n",
      " [ 0.08812578  0.58275927  0.67992165  3.7560822 ]]\n"
     ]
    }
   ],
   "source": [
    "# Perform element-wise addition, multiplication, and division on two random arrays of size 4x4.\n",
    "\n",
    "array1 = np.random.rand(4,4)\n",
    "array2 = np.random.rand(4,4)\n",
    "\n",
    "#multiplication\n",
    "\n",
    "mult = array1 * array2\n",
    "\n",
    "#addition\n",
    "\n",
    "addition = array1 + array2\n",
    "\n",
    "#division\n",
    "\n",
    "division = np.divide(array1, array2)\n",
    "\n",
    "\n",
    "print(\"array1:\\n\", array1)\n",
    "\n",
    "print(\"array2:\\n\", array2)\n",
    "\n",
    "print(\"\\nElement Wise Multiplication:\\n\", mult)\n",
    "\n",
    "print(\"\\nElement Wise Addition:\\n\", addition)\n",
    "\n",
    "print(\"\\nElement Wise Division:\\n\", division)"
   ]
  },
  {
   "cell_type": "code",
   "execution_count": 8,
   "id": "e4612b1a-7202-425c-ab44-02467ffb3cdc",
   "metadata": {},
   "outputs": [
    {
     "name": "stdout",
     "output_type": "stream",
     "text": [
      "[[0.67382477 0.95601989 0.41908273]\n",
      " [0.98218651 0.59860794 0.99688003]\n",
      " [0.97602187 0.38520478 0.75264815]]\n"
     ]
    }
   ],
   "source": [
    "# Find the maximum value and its index in a randomly generated array.\n",
    "\n",
    "rand_array = np.random.rand(3,3)\n",
    "\n",
    "print(rand_array)"
   ]
  },
  {
   "cell_type": "code",
   "execution_count": 9,
   "id": "e72bfbbf-7ca5-4950-af45-6be0b5825b0a",
   "metadata": {},
   "outputs": [
    {
     "name": "stdout",
     "output_type": "stream",
     "text": [
      "Maximum Value:\n",
      " 0.9968800304195271\n",
      "\n",
      "Maximum Value Index Position:\n",
      " (1, 2)\n"
     ]
    }
   ],
   "source": [
    "max_value = rand_array.max()\n",
    "\n",
    "max_index = np.unravel_index(np.argmax(rand_array), rand_array.shape)\n",
    "\n",
    "print(\"Maximum Value:\\n\", max_value)\n",
    "\n",
    "print(\"\\nMaximum Value Index Position:\\n\", max_index)"
   ]
  },
  {
   "cell_type": "code",
   "execution_count": null,
   "id": "a357770a-0381-46fd-9f0f-b9944f64216d",
   "metadata": {},
   "outputs": [],
   "source": []
  }
 ],
 "metadata": {
  "kernelspec": {
   "display_name": "Python [conda env:base] *",
   "language": "python",
   "name": "conda-base-py"
  },
  "language_info": {
   "codemirror_mode": {
    "name": "ipython",
    "version": 3
   },
   "file_extension": ".py",
   "mimetype": "text/x-python",
   "name": "python",
   "nbconvert_exporter": "python",
   "pygments_lexer": "ipython3",
   "version": "3.12.7"
  }
 },
 "nbformat": 4,
 "nbformat_minor": 5
}
