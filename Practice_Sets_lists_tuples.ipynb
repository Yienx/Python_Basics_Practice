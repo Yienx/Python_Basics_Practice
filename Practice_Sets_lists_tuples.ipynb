{
 "cells": [
  {
   "cell_type": "markdown",
   "id": "efcf8bcc-4af5-4d26-82b9-c5501330a431",
   "metadata": {},
   "source": [
    "## <span style ='background:orange'> Lists, Sets, Tuples, Dicts Practice Exercises </span>\n",
    "\n",
    "\n",
    "---\n",
    "***\n"
   ]
  },
  {
   "cell_type": "markdown",
   "id": "b4173c3b-f476-4cc3-9c28-4bc9e5ef2127",
   "metadata": {},
   "source": [
    "#### Question - Appending and Removing Elements: Create an empty list called my_list. Append the numbers 1, 2, and 3 to my_list. Then remove the number 2 from the list."
   ]
  },
  {
   "cell_type": "code",
   "execution_count": 4,
   "id": "47e44b56-eb98-4392-8b09-f28c0718f635",
   "metadata": {},
   "outputs": [
    {
     "data": {
      "text/plain": [
       "[1, 3]"
      ]
     },
     "execution_count": 4,
     "metadata": {},
     "output_type": "execute_result"
    }
   ],
   "source": [
    "my_list = [1,2,3]\n",
    "my_list.remove(2)\n",
    "\n",
    "my_list"
   ]
  },
  {
   "cell_type": "markdown",
   "id": "48e552b0-67ec-4795-b49a-526be0926c5b",
   "metadata": {},
   "source": [
    "#### Question- Accessing Elements: Create a list called fruits containing the strings \"apple\", \"banana\", \"cherry\", \"date\". Print the second element of the list."
   ]
  },
  {
   "cell_type": "code",
   "execution_count": 6,
   "id": "f107561a-f913-4c6a-8ba7-a43c8e764b4f",
   "metadata": {},
   "outputs": [
    {
     "data": {
      "text/plain": [
       "'banana'"
      ]
     },
     "execution_count": 6,
     "metadata": {},
     "output_type": "execute_result"
    }
   ],
   "source": [
    "fruits = [\"apple\", \"banana\", \"cherry\", \"date\"]\n",
    "fruits[1]"
   ]
  },
  {
   "cell_type": "markdown",
   "id": "a39bf0ee-f143-42d1-812c-61cd2ff14ff4",
   "metadata": {},
   "source": [
    "#### Question- Slicing: Create a list called numbers containing the numbers from 1 to 10. Print a slice of the list containing elements from the third element to the sixth element."
   ]
  },
  {
   "cell_type": "code",
   "execution_count": 8,
   "id": "3a507e03-1f44-4b77-909e-13bbf3eae0b6",
   "metadata": {},
   "outputs": [
    {
     "data": {
      "text/plain": [
       "[3, 4, 5, 6, 7, 8]"
      ]
     },
     "execution_count": 8,
     "metadata": {},
     "output_type": "execute_result"
    }
   ],
   "source": [
    "numbers = [1,2,3,4,5,6,7,8,9,10]\n",
    "\n",
    "numbers = numbers[2:8]\n",
    "numbers"
   ]
  },
  {
   "cell_type": "markdown",
   "id": "b7399374-139c-4959-a8b5-bb59b08bad87",
   "metadata": {},
   "source": [
    "### SETS\n",
    "\n",
    "#### Question - Adding and Removing Elements: Create an empty set called my_set. Add the numbers 1, 2, and 3 to my_set. Then remove the number 2 from the set."
   ]
  },
  {
   "cell_type": "code",
   "execution_count": 10,
   "id": "11c8ee8f-9bdb-4531-907b-d647d0c2d4b1",
   "metadata": {},
   "outputs": [
    {
     "data": {
      "text/plain": [
       "{1, 2, 3}"
      ]
     },
     "execution_count": 10,
     "metadata": {},
     "output_type": "execute_result"
    }
   ],
   "source": [
    "my_set = set()\n",
    "\n",
    "my_set.add(1)\n",
    "my_set.add(2)\n",
    "my_set.add(3)\n",
    "my_set"
   ]
  },
  {
   "cell_type": "code",
   "execution_count": null,
   "id": "b54a4cee-4af2-41f7-8e79-253d8371239f",
   "metadata": {},
   "outputs": [],
   "source": []
  },
  {
   "cell_type": "markdown",
   "id": "635b529f-7959-4d87-b544-ee01da5e61b3",
   "metadata": {},
   "source": [
    "#### Question - Operations: Create two sets called set1 and set2, each containing a few numbers. Print the union, intersection, and difference of the two sets."
   ]
  },
  {
   "cell_type": "code",
   "execution_count": 12,
   "id": "8489d929-309b-47eb-ba7b-8468c7fb90d8",
   "metadata": {},
   "outputs": [
    {
     "name": "stdout",
     "output_type": "stream",
     "text": [
      "{1, 2, 4}\n",
      "{1, 2, 3, 4, 5, 6, 7}\n",
      "{3, 5}\n",
      "{6, 7}\n"
     ]
    }
   ],
   "source": [
    "set1 = {1,2,3,4,5}\n",
    "set2 = {1,2,4,6,7}\n",
    "\n",
    "print(set1 & set2)\n",
    "print(set1 | set2)\n",
    "print(set1 - set2)\n",
    "print(set2 - set1)"
   ]
  },
  {
   "cell_type": "markdown",
   "id": "6cddfcdb-076f-456b-aa7f-d1a9e4f4423d",
   "metadata": {},
   "source": [
    "#### Question - Accessing Elements: Create a tuple called coordinates containing the latitude and longitude of a location (e.g., (40.7128, -74.0060) for New York City). Print the latitude and longitude separately."
   ]
  },
  {
   "cell_type": "code",
   "execution_count": 14,
   "id": "d9b2faef-4388-429f-adcd-9b51b6858ad5",
   "metadata": {},
   "outputs": [
    {
     "data": {
      "text/plain": [
       "{'lat': 37.8136, 'long': 144.9631}"
      ]
     },
     "execution_count": 14,
     "metadata": {},
     "output_type": "execute_result"
    }
   ],
   "source": [
    "coordinates = [(\"lat\", 37.8136), (\"long\", 144.9631)] # lat & long for Melbourne, Victoria.\n",
    "\n",
    "# convert tuple to dict\n",
    "\n",
    "coordinates = dict(coordinates)\n",
    "coordinates"
   ]
  },
  {
   "cell_type": "code",
   "execution_count": 15,
   "id": "94fc7bc2-e4b8-447c-b3fd-4aa37fa23a6a",
   "metadata": {},
   "outputs": [
    {
     "name": "stdout",
     "output_type": "stream",
     "text": [
      "37.8136\n",
      "144.9631\n"
     ]
    }
   ],
   "source": [
    "# Print latitude and longitude separately. \n",
    "print(coordinates[\"lat\"])\n",
    "print(coordinates[\"long\"])\n"
   ]
  },
  {
   "cell_type": "markdown",
   "id": "38912e1f-4732-4894-820a-b90958dd561c",
   "metadata": {},
   "source": [
    "#### Question - Packing and Unpacking: Create a tuple called person containing information about a person, such as their name, age, and city. Then unpack the tuple into individual variables."
   ]
  },
  {
   "cell_type": "code",
   "execution_count": 17,
   "id": "53648f23-2a0d-4ddb-97b5-4b451c25521a",
   "metadata": {},
   "outputs": [],
   "source": [
    "person = [('name', 'Peter'), ('age', 27), ('city', 'Paris')]\n"
   ]
  },
  {
   "cell_type": "code",
   "execution_count": 18,
   "id": "42f3d2be-187d-493e-9a6f-6710b689154a",
   "metadata": {},
   "outputs": [
    {
     "name": "stdout",
     "output_type": "stream",
     "text": [
      "('name', 'Peter')\n",
      "('age', 27)\n",
      "('city', 'Paris')\n"
     ]
    }
   ],
   "source": [
    "#unpacking\n",
    "\n",
    "(name, age, city) = person\n",
    "\n",
    "print(name)\n",
    "print(age)\n",
    "print(city)"
   ]
  },
  {
   "cell_type": "code",
   "execution_count": null,
   "id": "18143885-258f-42f4-88eb-e07c9ae544be",
   "metadata": {},
   "outputs": [],
   "source": []
  },
  {
   "cell_type": "code",
   "execution_count": null,
   "id": "d9cb2ecd-d1c1-4598-b4e2-2e0b66f8483a",
   "metadata": {},
   "outputs": [],
   "source": []
  }
 ],
 "metadata": {
  "kernelspec": {
   "display_name": "Python [conda env:base] *",
   "language": "python",
   "name": "conda-base-py"
  },
  "language_info": {
   "codemirror_mode": {
    "name": "ipython",
    "version": 3
   },
   "file_extension": ".py",
   "mimetype": "text/x-python",
   "name": "python",
   "nbconvert_exporter": "python",
   "pygments_lexer": "ipython3",
   "version": "3.12.7"
  }
 },
 "nbformat": 4,
 "nbformat_minor": 5
}
